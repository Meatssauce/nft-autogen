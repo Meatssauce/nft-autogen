{
 "cells": [
  {
   "cell_type": "code",
   "execution_count": 1,
   "outputs": [],
   "source": [
    "from PIL import Image, ImageOps\n",
    "import os\n",
    "from tqdm import tqdm"
   ],
   "metadata": {
    "collapsed": false,
    "pycharm": {
     "name": "#%%\n"
    }
   }
  },
  {
   "cell_type": "code",
   "execution_count": 190,
   "outputs": [
    {
     "ename": "OSError",
     "evalue": "[WinError 126] The specified module could not be found. Error loading \"C:\\Users\\Mason Z\\anaconda3\\envs\\nftgan\\lib\\site-packages\\torch\\lib\\torch_python.dll\" or one of its dependencies.",
     "output_type": "error",
     "traceback": [
      "\u001B[1;31m---------------------------------------------------------------------------\u001B[0m",
      "\u001B[1;31mOSError\u001B[0m                                   Traceback (most recent call last)",
      "Input \u001B[1;32mIn [190]\u001B[0m, in \u001B[0;36m<cell line: 1>\u001B[1;34m()\u001B[0m\n\u001B[1;32m----> 1\u001B[0m \u001B[38;5;28;01mimport\u001B[39;00m \u001B[38;5;21;01mtorch\u001B[39;00m\n",
      "File \u001B[1;32m~\\anaconda3\\envs\\nftgan\\lib\\site-packages\\torch\\__init__.py:135\u001B[0m, in \u001B[0;36m<module>\u001B[1;34m\u001B[0m\n\u001B[0;32m    133\u001B[0m                 err \u001B[38;5;241m=\u001B[39m ctypes\u001B[38;5;241m.\u001B[39mWinError(ctypes\u001B[38;5;241m.\u001B[39mget_last_error())\n\u001B[0;32m    134\u001B[0m                 err\u001B[38;5;241m.\u001B[39mstrerror \u001B[38;5;241m+\u001B[39m\u001B[38;5;241m=\u001B[39m \u001B[38;5;124mf\u001B[39m\u001B[38;5;124m'\u001B[39m\u001B[38;5;124m Error loading \u001B[39m\u001B[38;5;124m\"\u001B[39m\u001B[38;5;132;01m{\u001B[39;00mdll\u001B[38;5;132;01m}\u001B[39;00m\u001B[38;5;124m\"\u001B[39m\u001B[38;5;124m or one of its dependencies.\u001B[39m\u001B[38;5;124m'\u001B[39m\n\u001B[1;32m--> 135\u001B[0m                 \u001B[38;5;28;01mraise\u001B[39;00m err\n\u001B[0;32m    137\u001B[0m     kernel32\u001B[38;5;241m.\u001B[39mSetErrorMode(prev_error_mode)\n\u001B[0;32m    140\u001B[0m \u001B[38;5;66;03m# See Note [Global dependencies]\u001B[39;00m\n",
      "\u001B[1;31mOSError\u001B[0m: [WinError 126] The specified module could not be found. Error loading \"C:\\Users\\Mason Z\\anaconda3\\envs\\nftgan\\lib\\site-packages\\torch\\lib\\torch_python.dll\" or one of its dependencies."
     ]
    }
   ],
   "source": [
    "import torch"
   ],
   "metadata": {
    "collapsed": false,
    "pycharm": {
     "name": "#%%\n"
    }
   }
  },
  {
   "cell_type": "code",
   "execution_count": 2,
   "outputs": [],
   "source": [
    "imgs = Image.open('phunks.png')\n",
    "img_size = tuple(int(i / 100) for i in imgs.size)"
   ],
   "metadata": {
    "collapsed": false,
    "pycharm": {
     "name": "#%%\n"
    }
   }
  },
  {
   "cell_type": "code",
   "execution_count": 3,
   "outputs": [],
   "source": [
    "tiles = [imgs.crop((left, top, left + img_size[0], top + img_size[1]))\n",
    "         for left in range(0, imgs.size[0], img_size[0]) for top in range(0, imgs.size[1], img_size[1])]"
   ],
   "metadata": {
    "collapsed": false,
    "pycharm": {
     "name": "#%%\n"
    }
   }
  },
  {
   "cell_type": "code",
   "execution_count": 139,
   "outputs": [
    {
     "data": {
      "text/plain": "<PIL.Image.Image image mode=RGBA size=24x24 at 0x148B60581C0>",
      "image/png": "[encoded data removed]"
     },
     "execution_count": 139,
     "metadata": {},
     "output_type": "execute_result"
    }
   ],
   "source": [
    "# img = tiles[0].convert('RGBA')\n",
    "# bg = Image.new('RGBA', img.size, 'BLUE')\n",
    "# bg.paste(img, (0, 0), img)\n",
    "# bg\n",
    "# # bg.getcolors()\n",
    "# # img.getcolors()"
   ],
   "metadata": {
    "collapsed": false,
    "pycharm": {
     "name": "#%%\n"
    }
   }
  },
  {
   "cell_type": "code",
   "execution_count": 4,
   "outputs": [],
   "source": [
    "img = tiles[0].convert('RGBA')\n",
    "bg = Image.new('RGBA', img.size, 'BLUE')\n",
    "r, g, b, a = img.split()\n",
    "bg.paste(img, None, a)\n",
    "bg.show()\n"
   ],
   "metadata": {
    "collapsed": false,
    "pycharm": {
     "name": "#%%\n"
    }
   }
  },
  {
   "cell_type": "code",
   "execution_count": 188,
   "outputs": [
    {
     "name": "stderr",
     "output_type": "stream",
     "text": [
      "100%|██████████| 10000/10000 [05:05<00:00, 32.78it/s]\n"
     ]
    }
   ],
   "source": [
    "os.makedirs('phunks/img', exist_ok=True)\n",
    "\n",
    "\n",
    "for i, tile in enumerate(tqdm(tiles)):\n",
    "    img = ImageOps.mirror(tile).resize((1024, 1024)).convert('RGBA')\n",
    "\n",
    "    _, _, _, a = img.split()\n",
    "    bg = Image.new('RGBA', img.size, 'WHITE')\n",
    "    bg.paste(img, None, a)\n",
    "\n",
    "    # img.save(f'phunks/img/phunk-#{i}@1x.png')\n",
    "    # img.resize((64, 64)).save(f'phunks/img/phunk-#{i}@64x64.png')\n",
    "    # img.resize((256, 256)).save(f'phunks/img/phunk-#{i}@256x256.png')\n",
    "    # img.resize((512, 512)).save(f'phunks/img/phunk-#{i}@512x512.png')\n",
    "    bg.convert('RGB').save(f'phunks/img/phunk-#{i}@1024x1024.png')"
   ],
   "metadata": {
    "collapsed": false,
    "pycharm": {
     "name": "#%%\n"
    }
   }
  }
 ],
 "metadata": {
  "kernelspec": {
   "display_name": "Python 3",
   "language": "python",
   "name": "python3"
  },
  "language_info": {
   "codemirror_mode": {
    "name": "ipython",
    "version": 2
   },
   "file_extension": ".py",
   "mimetype": "text/x-python",
   "name": "python",
   "nbconvert_exporter": "python",
   "pygments_lexer": "ipython2",
   "version": "2.7.6"
  }
 },
 "nbformat": 4,
 "nbformat_minor": 0
}